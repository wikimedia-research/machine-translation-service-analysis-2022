{
 "cells": [
  {
   "cell_type": "markdown",
   "id": "3e759762-2bfb-48f4-bf5c-571442489f68",
   "metadata": {
    "tags": []
   },
   "source": [
    "# Collect Deletion Ratios for each MT engine"
   ]
  },
  {
   "cell_type": "markdown",
   "id": "910761b9-70f4-4c33-95fa-76a84778a8ce",
   "metadata": {},
   "source": [
    "## imports & spark_session"
   ]
  },
  {
   "cell_type": "code",
   "execution_count": 15,
   "id": "374c4123-a5d5-432c-b055-30e6ee137dc7",
   "metadata": {},
   "outputs": [],
   "source": [
    "import wmfdata as wmf\n",
    "import pandas as pd\n",
    "import duckdb\n",
    "\n",
    "from IPython.display import clear_output\n",
    "\n",
    "import warnings"
   ]
  },
  {
   "cell_type": "code",
   "execution_count": 7,
   "id": "d453d48a-0f30-4220-8174-602426765d22",
   "metadata": {},
   "outputs": [
    {
     "name": "stdout",
     "output_type": "stream",
     "text": [
      "no active session\n"
     ]
    }
   ],
   "source": [
    "spark_session = wmf.spark.get_active_session()\n",
    "\n",
    "if type(spark_session) != type(None):\n",
    "    spark_session.stop()\n",
    "else:\n",
    "    print('no active session')"
   ]
  },
  {
   "cell_type": "code",
   "execution_count": 8,
   "id": "d3830575-35e0-4fd5-8067-4675608ffcfe",
   "metadata": {},
   "outputs": [
    {
     "data": {
      "text/html": [
       "\n",
       "            <div>\n",
       "                <p><b>SparkSession - hive</b></p>\n",
       "                \n",
       "        <div>\n",
       "            <p><b>SparkContext</b></p>\n",
       "\n",
       "            <p><a href=\"http://stat1005.eqiad.wmnet:4043\">Spark UI</a></p>\n",
       "\n",
       "            <dl>\n",
       "              <dt>Version</dt>\n",
       "                <dd><code>v3.1.2</code></dd>\n",
       "              <dt>Master</dt>\n",
       "                <dd><code>yarn</code></dd>\n",
       "              <dt>AppName</dt>\n",
       "                <dd><code>mt-deletion-ratios</code></dd>\n",
       "            </dl>\n",
       "        </div>\n",
       "        \n",
       "            </div>\n",
       "        "
      ],
      "text/plain": [
       "<pyspark.sql.session.SparkSession at 0x7f82010fe6e0>"
      ]
     },
     "execution_count": 8,
     "metadata": {},
     "output_type": "execute_result"
    }
   ],
   "source": [
    "spark_session = wmf.spark.create_custom_session(\n",
    "    master=\"yarn\",\n",
    "    app_name='mt-deletion-ratios',\n",
    "    spark_config={\n",
    "        \"spark.driver.memory\": \"4g\",\n",
    "        \"spark.dynamicAllocation.maxExecutors\": 64,\n",
    "        \"spark.executor.memory\": \"16g\",\n",
    "        \"spark.executor.cores\": 4,\n",
    "        \"spark.sql.shuffle.partitions\": 256,\n",
    "        \"spark.driver.maxResultSize\": \"2g\"\n",
    "        \n",
    "    }\n",
    ")\n",
    "\n",
    "clear_output()\n",
    "\n",
    "spark_session\n"
   ]
  },
  {
   "cell_type": "code",
   "execution_count": 9,
   "id": "cc8fbafd-a089-4c9d-89c1-3e09ff262118",
   "metadata": {},
   "outputs": [],
   "source": [
    "spark_session.sparkContext.setLogLevel(\"ERROR\")"
   ]
  },
  {
   "cell_type": "markdown",
   "id": "6e553ea7-3c46-47c1-9c65-3e430e50745d",
   "metadata": {},
   "source": [
    "## Load data"
   ]
  },
  {
   "cell_type": "code",
   "execution_count": 47,
   "id": "250c4c8c-f200-497e-9982-fecbc4a27148",
   "metadata": {},
   "outputs": [],
   "source": [
    "conn = duckdb.connect('secrets/mt_data.db')"
   ]
  },
  {
   "cell_type": "code",
   "execution_count": 23,
   "id": "32eb74a7-f44d-46ec-9bd1-beee1fbd06ee",
   "metadata": {},
   "outputs": [],
   "source": [
    "revs_by_mt = conn.sql(\"\"\"\n",
    "    SELECT \n",
    "        DISTINCT target_revision_id, \n",
    "        mt_service \n",
    "    FROM \n",
    "        mt_logs\n",
    "    WHERE\n",
    "        translation_start_time >= '2023-08-01'\n",
    "        AND translation_start_time <= '2023-10-31'\n",
    "\"\"\").df()"
   ]
  },
  {
   "cell_type": "code",
   "execution_count": 24,
   "id": "546b2fe4-d4a3-4313-b3e1-eb39235fa227",
   "metadata": {},
   "outputs": [],
   "source": [
    "revs = spark_session.createDataFrame(revs_by_mt)\n",
    "revs.createOrReplaceTempView('revs_by_mt_service')"
   ]
  },
  {
   "cell_type": "code",
   "execution_count": 30,
   "id": "32f0b20e-0b29-4aac-8768-9b1d6317a864",
   "metadata": {},
   "outputs": [
    {
     "name": "stdout",
     "output_type": "stream",
     "text": [
      "Available machine translation services: ['Google', 'scratch', 'MinT', 'Yandex', 'Apertium', 'LingoCloud', 'Elia']\n"
     ]
    }
   ],
   "source": [
    "mt_services = revs_by_mt.mt_service.unique().tolist()\n",
    "print(f'Available machine translation services: {mt_services}')"
   ]
  },
  {
   "cell_type": "markdown",
   "id": "20ec1792-0f60-4500-a84c-acc33c64e7dc",
   "metadata": {},
   "source": [
    "## Query deletion ratios"
   ]
  },
  {
   "cell_type": "code",
   "execution_count": 36,
   "id": "afacdb87-5946-4eea-8574-4015cc54cf2b",
   "metadata": {},
   "outputs": [],
   "source": [
    "deletion_ratios_query = \"\"\"\n",
    "SELECT\n",
    "    wiki_db AS wiki,\n",
    "    mtc.mt_service AS mt_service,\n",
    "    COUNT(*) AS created_cx_total,\n",
    "    SUM(CASE\n",
    "            WHEN revision_is_deleted_by_page_deletion THEN 1 \n",
    "            ELSE 0 \n",
    "        END) AS deleted_cx_total\n",
    "FROM \n",
    "    wmf.mediawiki_history mwh\n",
    "JOIN \n",
    "    revs_by_mt_service mtc\n",
    "    ON mwh.revision_id = mtc.target_revision_id\n",
    "WHERE\n",
    "    snapshot = '{MW_SNAPSHOT}'\n",
    "    AND revision_parent_id = 0\n",
    "    AND event_entity = 'revision'\n",
    "    AND event_type = 'create' \n",
    "    AND event_timestamp >= '2023-08-01'\n",
    "    AND event_timestamp <= '2023-10-31'\n",
    "    AND SIZE(event_user_is_bot_by) = 0\n",
    "    AND mtc.mt_service IN {MT_SERVICES}\n",
    "    AND ARRAY_CONTAINS(revision_tags, 'contenttranslation')\n",
    "GROUP BY  \n",
    "    wiki_db, \n",
    "    mtc.mt_service\n",
    "\"\"\""
   ]
  },
  {
   "cell_type": "code",
   "execution_count": 37,
   "id": "188ccc15-15c7-4093-ac01-b48406173f2e",
   "metadata": {},
   "outputs": [
    {
     "name": "stderr",
     "output_type": "stream",
     "text": [
      "[Stage 11:=====================================================>(252 + 4) / 256]\r"
     ]
    },
    {
     "name": "stdout",
     "output_type": "stream",
     "text": [
      "CPU times: user 402 ms, sys: 102 ms, total: 505 ms\n",
      "Wall time: 1min 51s\n"
     ]
    },
    {
     "name": "stderr",
     "output_type": "stream",
     "text": [
      "                                                                                \r"
     ]
    }
   ],
   "source": [
    "%%time \n",
    "\n",
    "deletion_ratios = wmf.spark.run(deletion_ratios_query\n",
    "                                .format(MW_SNAPSHOT = '2023-10', \n",
    "                                        MT_SERVICES = wmf.utils.sql_tuple(mt_services)))"
   ]
  },
  {
   "cell_type": "code",
   "execution_count": 39,
   "id": "afbcda8b-9a8a-446c-a821-7cb74d347221",
   "metadata": {},
   "outputs": [
    {
     "name": "stdout",
     "output_type": "stream",
     "text": [
      "<class 'pandas.core.frame.DataFrame'>\n",
      "RangeIndex: 438 entries, 0 to 437\n",
      "Data columns (total 4 columns):\n",
      " #   Column            Non-Null Count  Dtype \n",
      "---  ------            --------------  ----- \n",
      " 0   wiki              438 non-null    object\n",
      " 1   mt_service        438 non-null    object\n",
      " 2   created_cx_total  438 non-null    int64 \n",
      " 3   deleted_cx_total  438 non-null    int64 \n",
      "dtypes: int64(2), object(2)\n",
      "memory usage: 13.8+ KB\n"
     ]
    }
   ],
   "source": [
    "deletion_ratios.info()"
   ]
  },
  {
   "cell_type": "markdown",
   "id": "e264c1db-bf40-4b1d-a33a-3880eb357ff8",
   "metadata": {},
   "source": [
    "## Export to database"
   ]
  },
  {
   "cell_type": "code",
   "execution_count": 48,
   "id": "646ad0a6-c4ab-4ab9-a771-dfa9e3dbe952",
   "metadata": {},
   "outputs": [
    {
     "data": {
      "text/plain": [
       "<duckdb.DuckDBPyConnection at 0x7f811050da30>"
      ]
     },
     "execution_count": 48,
     "metadata": {},
     "output_type": "execute_result"
    }
   ],
   "source": [
    "conn.execute(\"\"\"\n",
    "CREATE OR REPLACE TABLE mt_deletion_ratios AS\n",
    "SELECT\n",
    "    *,\n",
    "    deleted_cx_total/created_cx_total AS deletion_ratio\n",
    "FROM \n",
    "    deletion_ratios\n",
    "\"\"\")"
   ]
  },
  {
   "cell_type": "code",
   "execution_count": 49,
   "id": "7d67833c-23f7-4ba3-9aa5-4db4f794421a",
   "metadata": {},
   "outputs": [
    {
     "data": {
      "text/plain": [
       "┌──────────────────┬─────────────┬─────────┬─────────┬─────────┬───────┐\n",
       "│   column_name    │ column_type │  null   │   key   │ default │ extra │\n",
       "│     varchar      │   varchar   │ varchar │ varchar │ varchar │ int32 │\n",
       "├──────────────────┼─────────────┼─────────┼─────────┼─────────┼───────┤\n",
       "│ wiki             │ VARCHAR     │ YES     │ NULL    │ NULL    │  NULL │\n",
       "│ mt_service       │ VARCHAR     │ YES     │ NULL    │ NULL    │  NULL │\n",
       "│ created_cx_total │ BIGINT      │ YES     │ NULL    │ NULL    │  NULL │\n",
       "│ deleted_cx_total │ BIGINT      │ YES     │ NULL    │ NULL    │  NULL │\n",
       "│ deletion_ratio   │ DOUBLE      │ YES     │ NULL    │ NULL    │  NULL │\n",
       "└──────────────────┴─────────────┴─────────┴─────────┴─────────┴───────┘"
      ]
     },
     "execution_count": 49,
     "metadata": {},
     "output_type": "execute_result"
    }
   ],
   "source": [
    "conn.sql(\"\"\"DESCRIBE mt_deletion_ratios\"\"\")"
   ]
  },
  {
   "cell_type": "code",
   "execution_count": 51,
   "id": "64258749-2e81-43e7-8fd6-1ca21c0e4e9f",
   "metadata": {},
   "outputs": [],
   "source": [
    "conn.close()"
   ]
  }
 ],
 "metadata": {
  "kernelspec": {
   "display_name": "Python 3 (ipykernel)",
   "language": "python",
   "name": "python3"
  },
  "language_info": {
   "codemirror_mode": {
    "name": "ipython",
    "version": 3
   },
   "file_extension": ".py",
   "mimetype": "text/x-python",
   "name": "python",
   "nbconvert_exporter": "python",
   "pygments_lexer": "ipython3",
   "version": "3.10.8"
  }
 },
 "nbformat": 4,
 "nbformat_minor": 5
}
