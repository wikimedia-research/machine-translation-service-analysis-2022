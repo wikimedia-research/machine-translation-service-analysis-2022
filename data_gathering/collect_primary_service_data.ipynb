{
 "cells": [
  {
   "cell_type": "code",
   "execution_count": 30,
   "id": "a2e71636-ee76-4838-b0d8-7f3697c9468c",
   "metadata": {},
   "outputs": [],
   "source": [
    "import duckdb\n",
    "import pandas as pd\n",
    "import json\n",
    "import requests"
   ]
  },
  {
   "cell_type": "code",
   "execution_count": 34,
   "id": "3144c7e0-9880-45f6-a79d-cea04b7401c0",
   "metadata": {},
   "outputs": [],
   "source": [
    "conn = duckdb.connect('secrets/mt_data.db')"
   ]
  },
  {
   "cell_type": "code",
   "execution_count": 42,
   "id": "dfed3509-c553-4a98-821e-8f4ec99f5f66",
   "metadata": {},
   "outputs": [
    {
     "data": {
      "text/plain": [
       "(2790, 2)"
      ]
     },
     "execution_count": 42,
     "metadata": {},
     "output_type": "execute_result"
    }
   ],
   "source": [
    "unique_pairs = conn.sql(\"\"\"SELECT DISTINCT source_language, target_language FROM mt_logs\"\"\").df()\n",
    "unique_pairs.shape"
   ]
  },
  {
   "cell_type": "code",
   "execution_count": 54,
   "id": "b3374ac0-e762-4089-845d-a9be9322d74d",
   "metadata": {},
   "outputs": [],
   "source": [
    "def get_default_service(lang1, lang2):\n",
    "    response = requests.get(f'https://cxserver.wikimedia.org/v1/list/mt/{lang1}/{lang2}')\n",
    "    output = json.loads(response.text)\n",
    "    if len(output) == 0:\n",
    "        return [None, 'no_mt']\n",
    "    else:\n",
    "        services = output['mt']\n",
    "        if len(services) == 1:\n",
    "            return [services[0], 'only_mt']\n",
    "        else:\n",
    "            return [services[0], 'default_mt']"
   ]
  },
  {
   "cell_type": "code",
   "execution_count": 68,
   "id": "0d436a9e-8ce4-4b88-9cf5-5c6ab5f61930",
   "metadata": {},
   "outputs": [
    {
     "name": "stdout",
     "output_type": "stream",
     "text": [
      "CPU times: user 37.9 s, sys: 1.48 s, total: 39.3 s\n",
      "Wall time: 1min 2s\n"
     ]
    }
   ],
   "source": [
    "%%time\n",
    "\n",
    "unique_pairs[['service', 'service_type']] = (\n",
    "    unique_pairs\n",
    "    .apply(\n",
    "        lambda row: pd.Series(get_default_service(row['source_language'], row['target_language'])),\n",
    "        axis=1\n",
    "    )"
   ]
  },
  {
   "cell_type": "code",
   "execution_count": 63,
   "id": "87831fd1-780d-41a2-86ca-a2d8e3117a56",
   "metadata": {},
   "outputs": [
    {
     "name": "stdout",
     "output_type": "stream",
     "text": [
      "CPU times: user 36.2 s, sys: 1.32 s, total: 37.5 s\n",
      "Wall time: 1min\n"
     ]
    }
   ],
   "source": [
    "%%time\n",
    "\n",
    "unique_pairs['service'], unique_pairs['service_type'] = '', ''\n",
    "\n",
    "for i in unique_pairs.index:\n",
    "    \n",
    "    source = unique_pairs.loc[i, 'source_language']\n",
    "    target = unique_pairs.loc[i, 'target_language']\n",
    "    \n",
    "    default_output = get_default_service(source, target)\n",
    "    \n",
    "    unique_pairs.loc[i, 'service'], unique_pairs.loc[i, 'service_type'] = default_output[0], default_output[1]"
   ]
  },
  {
   "cell_type": "code",
   "execution_count": 77,
   "id": "1687c11f-96a8-4c55-8c71-1641c6e07170",
   "metadata": {},
   "outputs": [
    {
     "name": "stdout",
     "output_type": "stream",
     "text": [
      "(2790, 5)\n"
     ]
    },
    {
     "data": {
      "text/html": [
       "<div>\n",
       "<style scoped>\n",
       "    .dataframe tbody tr th:only-of-type {\n",
       "        vertical-align: middle;\n",
       "    }\n",
       "\n",
       "    .dataframe tbody tr th {\n",
       "        vertical-align: top;\n",
       "    }\n",
       "\n",
       "    .dataframe thead th {\n",
       "        text-align: right;\n",
       "    }\n",
       "</style>\n",
       "<table border=\"1\" class=\"dataframe\">\n",
       "  <thead>\n",
       "    <tr style=\"text-align: right;\">\n",
       "      <th></th>\n",
       "      <th>source_language</th>\n",
       "      <th>target_language</th>\n",
       "      <th>service</th>\n",
       "      <th>service_type</th>\n",
       "      <th>language_pair</th>\n",
       "    </tr>\n",
       "  </thead>\n",
       "  <tbody>\n",
       "    <tr>\n",
       "      <th>0</th>\n",
       "      <td>en</td>\n",
       "      <td>uz</td>\n",
       "      <td>Google</td>\n",
       "      <td>default_mt</td>\n",
       "      <td>en-uz</td>\n",
       "    </tr>\n",
       "    <tr>\n",
       "      <th>1</th>\n",
       "      <td>en</td>\n",
       "      <td>nb</td>\n",
       "      <td>MinT</td>\n",
       "      <td>default_mt</td>\n",
       "      <td>en-nb</td>\n",
       "    </tr>\n",
       "    <tr>\n",
       "      <th>2</th>\n",
       "      <td>en</td>\n",
       "      <td>pa</td>\n",
       "      <td>Google</td>\n",
       "      <td>default_mt</td>\n",
       "      <td>en-pa</td>\n",
       "    </tr>\n",
       "    <tr>\n",
       "      <th>3</th>\n",
       "      <td>en</td>\n",
       "      <td>zh</td>\n",
       "      <td>Google</td>\n",
       "      <td>default_mt</td>\n",
       "      <td>en-zh</td>\n",
       "    </tr>\n",
       "    <tr>\n",
       "      <th>4</th>\n",
       "      <td>en</td>\n",
       "      <td>eo</td>\n",
       "      <td>Apertium</td>\n",
       "      <td>default_mt</td>\n",
       "      <td>en-eo</td>\n",
       "    </tr>\n",
       "  </tbody>\n",
       "</table>\n",
       "</div>"
      ],
      "text/plain": [
       "  source_language target_language   service service_type language_pair\n",
       "0              en              uz    Google   default_mt         en-uz\n",
       "1              en              nb      MinT   default_mt         en-nb\n",
       "2              en              pa    Google   default_mt         en-pa\n",
       "3              en              zh    Google   default_mt         en-zh\n",
       "4              en              eo  Apertium   default_mt         en-eo"
      ]
     },
     "execution_count": 77,
     "metadata": {},
     "output_type": "execute_result"
    }
   ],
   "source": [
    "print(unique_pairs.shape)\n",
    "unique_pairs.head()"
   ]
  },
  {
   "cell_type": "code",
   "execution_count": 74,
   "id": "d0b3878d-af8e-4ea1-988d-cf4c129bedeb",
   "metadata": {},
   "outputs": [
    {
     "data": {
      "text/plain": [
       "<duckdb.DuckDBPyConnection at 0x7f8f69425ab0>"
      ]
     },
     "execution_count": 74,
     "metadata": {},
     "output_type": "execute_result"
    }
   ],
   "source": [
    "conn.execute(\"\"\"\n",
    "CREATE OR REPLACE TABLE mt_defaults AS\n",
    "SELECT\n",
    "    *\n",
    "FROM\n",
    "    unique_pairs\n",
    "\"\"\")"
   ]
  },
  {
   "cell_type": "code",
   "execution_count": 76,
   "id": "778ff859-a743-41da-b72b-f0eb91eaf0a0",
   "metadata": {},
   "outputs": [],
   "source": [
    "conn.close()"
   ]
  }
 ],
 "metadata": {
  "kernelspec": {
   "display_name": "Python 3 (ipykernel)",
   "language": "python",
   "name": "python3"
  },
  "language_info": {
   "codemirror_mode": {
    "name": "ipython",
    "version": 3
   },
   "file_extension": ".py",
   "mimetype": "text/x-python",
   "name": "python",
   "nbconvert_exporter": "python",
   "pygments_lexer": "ipython3",
   "version": "3.10.8"
  }
 },
 "nbformat": 4,
 "nbformat_minor": 5
}
