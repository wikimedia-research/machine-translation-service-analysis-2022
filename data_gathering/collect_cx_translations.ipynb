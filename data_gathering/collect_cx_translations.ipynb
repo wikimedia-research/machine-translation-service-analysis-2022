{
 "cells": [
  {
   "cell_type": "markdown",
   "id": "b6687a92-b08e-4e3c-8e4d-8d818c6b8abc",
   "metadata": {},
   "source": [
    "# Collect all cx translations"
   ]
  },
  {
   "cell_type": "code",
   "execution_count": 2,
   "id": "cfd3ef90-0680-464c-ac6c-bd47325e37ec",
   "metadata": {},
   "outputs": [
    {
     "name": "stdout",
     "output_type": "stream",
     "text": [
      "\n"
     ]
    },
    {
     "name": "stderr",
     "output_type": "stream",
     "text": [
      "You are using Wmfdata v2.0.0, but v2.0.1 is available.\n",
      "\n",
      "To update, run `pip install --upgrade git+https://github.com/wikimedia/wmfdata-python.git@release`.\n",
      "\n",
      "To see the changes, refer to https://github.com/wikimedia/wmfdata-python/blob/release/CHANGELOG.md.\n"
     ]
    }
   ],
   "source": [
    "import pandas as pd\n",
    "import wmfdata as wmf\n",
    "import duckdb"
   ]
  },
  {
   "cell_type": "code",
   "execution_count": 11,
   "id": "e853581a-6d47-46c3-aa36-06029b208e05",
   "metadata": {},
   "outputs": [],
   "source": [
    "#collect content translation and associated MT engine\n",
    "#need to query cx_corpus table and cross it with cx_translations table and then group and sort\n",
    "\n",
    "query = \"\"\" \n",
    "SELECT\n",
    "    DATE(translation_start_timestamp) AS translation_start_time,\n",
    "    translation_id,\n",
    "    translation_target_revision_id  AS target_revision_id,\n",
    "    translation_target_title AS page_title,\n",
    "    CAST(JSON_EXTRACT(translation_progress, '$.mt') AS FLOAT) AS mt_translated_percent, \n",
    "    CAST(JSON_EXTRACT(translation_progress, '$.human') AS FLOAT) AS human_translated_percent, \n",
    "    translation_status AS translation_status,\n",
    "    CASE\n",
    "        WHEN cc.cxc_origin = 'Yandex.Translate' THEN 'Yandex'\n",
    "        WHEN cc.cxc_origin = 'Google Translate' THEN 'Google'\n",
    "        WHEN cc.cxc_origin = 'Flores' THEN 'NLLB-200'\n",
    "        ELSE cc.cxc_origin\n",
    "    END AS mt_service,\n",
    "    translation_source_language AS source_language,\n",
    "    translation_target_language AS target_language\n",
    "FROM \n",
    "    cx_translations\n",
    "JOIN \n",
    "    cx_corpora AS cc\n",
    "    ON translation_id = cc.cxc_translation_id\n",
    "WHERE\n",
    "    DATE(translation_start_timestamp) >= DATE('2022-07-01')\n",
    "    AND translation_status = 'published'\n",
    "    AND NOT cc.cxc_origin IN ('source', 'user', 'null', 'Youdao', 'original')\n",
    "\"\"\""
   ]
  },
  {
   "cell_type": "code",
   "execution_count": 12,
   "id": "9dee9edf-12f3-479b-98f2-0251fcd989d3",
   "metadata": {},
   "outputs": [
    {
     "name": "stderr",
     "output_type": "stream",
     "text": [
      "/home/kcv-wikimf/.conda/envs/2023-03-31T07.02.22_kcv-wikimf/lib/python3.10/site-packages/pandas/io/sql.py:761: UserWarning: pandas only support SQLAlchemy connectable(engine/connection) ordatabase string URI or sqlite3 DBAPI2 connectionother DBAPI2 objects are not tested, please consider using SQLAlchemy\n",
      "  warnings.warn(\n"
     ]
    },
    {
     "name": "stdout",
     "output_type": "stream",
     "text": [
      "CPU times: user 25.9 s, sys: 5.26 s, total: 31.2 s\n",
      "Wall time: 38.9 s\n"
     ]
    }
   ],
   "source": [
    "%%time\n",
    "mt_data = wmf.mariadb.run(commands = query, dbs = \"wikishared\")"
   ]
  },
  {
   "cell_type": "code",
   "execution_count": 13,
   "id": "9aa7915e-660b-4007-8459-c80830c940a0",
   "metadata": {},
   "outputs": [
    {
     "name": "stdout",
     "output_type": "stream",
     "text": [
      "<class 'pandas.core.frame.DataFrame'>\n",
      "RangeIndex: 6233548 entries, 0 to 6233547\n",
      "Data columns (total 10 columns):\n",
      " #   Column                    Dtype  \n",
      "---  ------                    -----  \n",
      " 0   translation_start_time    object \n",
      " 1   translation_id            int64  \n",
      " 2   target_revision_id        int64  \n",
      " 3   page_title                object \n",
      " 4   mt_translated_percent     float64\n",
      " 5   human_translated_percent  float64\n",
      " 6   translation_status        object \n",
      " 7   mt_service                object \n",
      " 8   source_language           object \n",
      " 9   target_language           object \n",
      "dtypes: float64(2), int64(2), object(6)\n",
      "memory usage: 475.6+ MB\n"
     ]
    }
   ],
   "source": [
    "mt_data.info()"
   ]
  },
  {
   "cell_type": "markdown",
   "id": "78e6440b-a3cf-42c6-82e9-627c24a8bac7",
   "metadata": {},
   "source": [
    "## Export to a database"
   ]
  },
  {
   "cell_type": "code",
   "execution_count": 14,
   "id": "acf51723-3c5f-4211-8d4a-c21c044fece6",
   "metadata": {},
   "outputs": [],
   "source": [
    "conn = duckdb.connect('secrets/mt_data.db')"
   ]
  },
  {
   "cell_type": "code",
   "execution_count": 15,
   "id": "35208a81-bf64-4cfd-9816-289684fdb6e8",
   "metadata": {},
   "outputs": [
    {
     "data": {
      "text/plain": [
       "<duckdb.DuckDBPyConnection at 0x7fa5ae245a30>"
      ]
     },
     "execution_count": 15,
     "metadata": {},
     "output_type": "execute_result"
    }
   ],
   "source": [
    "conn.execute(\"\"\"\n",
    "CREATE OR REPLACE TABLE mt_logs AS\n",
    "SELECT\n",
    "    translation_start_time::DATE AS translation_start_time,\n",
    "    * EXCLUDE(translation_start_time, translation_status)\n",
    "FROM\n",
    "    mt_data\n",
    "\"\"\")"
   ]
  },
  {
   "cell_type": "code",
   "execution_count": 16,
   "id": "40cca49c-2848-4c32-89d1-fc654d1a2d4f",
   "metadata": {},
   "outputs": [
    {
     "data": {
      "text/plain": [
       "┌──────────────────────────┬─────────────┬─────────┬─────────┬─────────┬───────┐\n",
       "│       column_name        │ column_type │  null   │   key   │ default │ extra │\n",
       "│         varchar          │   varchar   │ varchar │ varchar │ varchar │ int32 │\n",
       "├──────────────────────────┼─────────────┼─────────┼─────────┼─────────┼───────┤\n",
       "│ translation_start_time   │ DATE        │ YES     │ NULL    │ NULL    │  NULL │\n",
       "│ translation_id           │ BIGINT      │ YES     │ NULL    │ NULL    │  NULL │\n",
       "│ target_revision_id       │ BIGINT      │ YES     │ NULL    │ NULL    │  NULL │\n",
       "│ page_title               │ VARCHAR     │ YES     │ NULL    │ NULL    │  NULL │\n",
       "│ mt_translated_percent    │ DOUBLE      │ YES     │ NULL    │ NULL    │  NULL │\n",
       "│ human_translated_percent │ DOUBLE      │ YES     │ NULL    │ NULL    │  NULL │\n",
       "│ mt_service               │ VARCHAR     │ YES     │ NULL    │ NULL    │  NULL │\n",
       "│ source_language          │ VARCHAR     │ YES     │ NULL    │ NULL    │  NULL │\n",
       "│ target_language          │ VARCHAR     │ YES     │ NULL    │ NULL    │  NULL │\n",
       "└──────────────────────────┴─────────────┴─────────┴─────────┴─────────┴───────┘"
      ]
     },
     "execution_count": 16,
     "metadata": {},
     "output_type": "execute_result"
    }
   ],
   "source": [
    "conn.sql(\"\"\"DESCRIBE mt_logs\"\"\")"
   ]
  },
  {
   "cell_type": "code",
   "execution_count": 17,
   "id": "e0a8428b-9d1f-45d5-ae91-93c7a8c5e1ed",
   "metadata": {},
   "outputs": [],
   "source": [
    "conn.close()"
   ]
  }
 ],
 "metadata": {
  "kernelspec": {
   "display_name": "Python 3 (ipykernel)",
   "language": "python",
   "name": "python3"
  },
  "language_info": {
   "codemirror_mode": {
    "name": "ipython",
    "version": 3
   },
   "file_extension": ".py",
   "mimetype": "text/x-python",
   "name": "python",
   "nbconvert_exporter": "python",
   "pygments_lexer": "ipython3",
   "version": "3.10.8"
  },
  "toc-autonumbering": true,
  "toc-showmarkdowntxt": false
 },
 "nbformat": 4,
 "nbformat_minor": 5
}
