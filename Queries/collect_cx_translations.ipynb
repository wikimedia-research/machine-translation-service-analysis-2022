{
 "cells": [
  {
   "cell_type": "markdown",
   "id": "b6687a92-b08e-4e3c-8e4d-8d818c6b8abc",
   "metadata": {},
   "source": [
    "# Collect all cx translations"
   ]
  },
  {
   "cell_type": "code",
   "execution_count": 45,
   "id": "cfd3ef90-0680-464c-ac6c-bd47325e37ec",
   "metadata": {},
   "outputs": [],
   "source": [
    "import pandas as pd\n",
    "import numpy as np\n",
    "import math\n",
    "\n",
    "import datetime as dt\n",
    "\n",
    "from wmfdata import hive, mariadb, spark"
   ]
  },
  {
   "cell_type": "code",
   "execution_count": 2,
   "id": "e853581a-6d47-46c3-aa36-06029b208e05",
   "metadata": {},
   "outputs": [],
   "source": [
    "#collect content translation and associated MT engine\n",
    "#need to query cx_corpus table and cross it with cx_translations table and then group and sort\n",
    "\n",
    "query = \"\"\" \n",
    "    SELECT\n",
    "    translation_start_timestamp AS translation_start_time,\n",
    "    translation_id,\n",
    "    translation_target_revision_id  AS target_revision_id,\n",
    "    translation_target_title AS page_title,\n",
    "    json_extract(translation_progress, '$.mt') AS mt_translated_percent, \n",
    "    json_extract(translation_progress, '$.human') AS human_translated_percent, \n",
    "    translation_status AS translation_status,\n",
    "    CASE\n",
    "    WHEN cc.cxc_origin = 'source' THEN 'source'\n",
    "    WHEN cc.cxc_origin = 'user' THEN 'final'\n",
    "    ELSE 'mt_engine'\n",
    "    END AS translation_type,\n",
    "    cc.cxc_origin AS mt_service,\n",
    "    translation_source_language AS source_language,\n",
    "    translation_target_language AS target_language\n",
    "    FROM \n",
    "    cx_translations\n",
    "    JOIN \n",
    "    cx_corpora AS cc\n",
    "    ON translation_id = cc.cxc_translation_id\n",
    "\"\"\"\n"
   ]
  },
  {
   "cell_type": "code",
   "execution_count": 3,
   "id": "9dee9edf-12f3-479b-98f2-0251fcd989d3",
   "metadata": {},
   "outputs": [],
   "source": [
    "mt_data = mariadb.run(commands = query, dbs = \"wikishared\", use_x1 = False, format=\"pandas\", date_col=None,\n",
    " index_col=None)"
   ]
  },
  {
   "cell_type": "code",
   "execution_count": 4,
   "id": "fc94df02-9d21-4e0b-a8c4-22dafda063a8",
   "metadata": {},
   "outputs": [],
   "source": [
    "#save data to csv\n",
    "mt_data.to_csv('mt_data.csv', index = False)"
   ]
  }
 ],
 "metadata": {
  "kernelspec": {
   "display_name": "Python 3 (ipykernel)",
   "language": "python",
   "name": "python3"
  },
  "language_info": {
   "codemirror_mode": {
    "name": "ipython",
    "version": 3
   },
   "file_extension": ".py",
   "mimetype": "text/x-python",
   "name": "python",
   "nbconvert_exporter": "python",
   "pygments_lexer": "ipython3",
   "version": "3.10.8"
  },
  "toc-autonumbering": true,
  "toc-showmarkdowntxt": false
 },
 "nbformat": 4,
 "nbformat_minor": 5
}
