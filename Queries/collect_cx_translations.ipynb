{
 "cells": [
  {
   "cell_type": "markdown",
   "id": "b6687a92-b08e-4e3c-8e4d-8d818c6b8abc",
   "metadata": {},
   "source": [
    "# Collect all cx translations"
   ]
  },
  {
   "cell_type": "code",
   "execution_count": 45,
   "id": "cfd3ef90-0680-464c-ac6c-bd47325e37ec",
   "metadata": {},
   "outputs": [],
   "source": [
    "import pandas as pd\n",
    "import numpy as np\n",
    "import math\n",
    "\n",
    "import datetime as dt\n",
    "\n",
    "from wmfdata import hive, mariadb, spark"
   ]
  },
  {
   "cell_type": "code",
   "execution_count": 2,
   "id": "e853581a-6d47-46c3-aa36-06029b208e05",
   "metadata": {},
   "outputs": [],
   "source": [
    "#collect content translation and associated MT engine\n",
    "# Need to query cx_corpus table and cross it with cx_translations table and then group and sort\n",
    "\n",
    "query = \"\"\" \n",
    "    SELECT\n",
    "    translation_start_timestamp AS translation_start_time,\n",
    "    translation_id,\n",
    "    translation_target_revision_id  AS target_revision_id,\n",
    "    translation_target_title AS page_title,\n",
    "    json_extract(translation_progress, '$.mt') AS mt_translated_percent, \n",
    "    json_extract(translation_progress, '$.human') AS human_translated_percent, \n",
    "    translation_status AS translation_status,\n",
    "    CASE\n",
    "    WHEN cc.cxc_origin = 'source' THEN 'source'\n",
    "    WHEN cc.cxc_origin = 'user' THEN 'final'\n",
    "    ELSE 'mt_engine'\n",
    "    END AS translation_type,\n",
    "    cc.cxc_origin AS mt_service,\n",
    "    translation_source_language AS source_language,\n",
    "    translation_target_language AS target_language\n",
    "    FROM \n",
    "    cx_translations\n",
    "    JOIN \n",
    "    cx_corpora AS cc\n",
    "    ON translation_id = cc.cxc_translation_id\n",
    "\"\"\"\n"
   ]
  },
  {
   "cell_type": "code",
   "execution_count": 3,
   "id": "9dee9edf-12f3-479b-98f2-0251fcd989d3",
   "metadata": {},
   "outputs": [],
   "source": [
    "mt_data = mariadb.run(commands = query, dbs = \"wikishared\", use_x1 = False, format=\"pandas\", date_col=None,\n",
    " index_col=None)"
   ]
  },
  {
   "cell_type": "code",
   "execution_count": 4,
   "id": "fc94df02-9d21-4e0b-a8c4-22dafda063a8",
   "metadata": {},
   "outputs": [],
   "source": [
    "#save data to csv\n",
    "mt_data.to_csv('mt_data.csv', index = False)"
   ]
  },
  {
   "cell_type": "markdown",
   "id": "d614282a-aadc-4246-bf76-13e7beff17d9",
   "metadata": {},
   "source": [
    "# Collect Deletion Ratios"
   ]
  },
  {
   "cell_type": "markdown",
   "id": "dd7556bf-85d6-47ea-ad5e-f8cacec40e9d",
   "metadata": {},
   "source": [
    "## Elia Deletion Ratios"
   ]
  },
  {
   "cell_type": "code",
   "execution_count": 51,
   "id": "04f18416-0e42-46ee-8eb0-ec0da5d7dc04",
   "metadata": {},
   "outputs": [],
   "source": [
    "\n",
    "query = \"\"\"\n",
    "-- find both cx and non-cx created articles \n",
    "WITH created_articles AS (\n",
    "\n",
    "SELECT\n",
    "    wiki_db AS wiki,\n",
    "    COUNT(*) AS created_cx_total\n",
    "FROM wmf.mediawiki_history mwh\n",
    "-- limit to only cx revision ids\n",
    "JOIN mneisler.cx_revision_ids_by_mtservice mtc\n",
    "ON mwh.revision_id = mtc.target_revision_id\n",
    "WHERE\n",
    "    snapshot = '2022-09'\n",
    "-- only look at new page creations\n",
    "    AND revision_parent_id = 0\n",
    "-- review articles published  in February 2022\n",
    "    AND event_timestamp >= '2022-02-01'\n",
    "    AND event_entity = 'revision'\n",
    "    AND event_type = 'create' \n",
    "-- identified as Elia\n",
    "    AND mtc.mt_service = 'Elia'\n",
    "    AND ARRAY_CONTAINS(revision_tags, 'contenttranslation')\n",
    "GROUP BY  \n",
    "  wiki_db\n",
    "),\n",
    "\n",
    "--find all deleted articles that were created with cx \n",
    "\n",
    "deleted_articles AS (\n",
    "\n",
    "SELECT\n",
    "    wiki_db AS wiki,\n",
    "    COUNT(*) AS deleted_cx_total\n",
    "FROM wmf.mediawiki_history mwh\n",
    "JOIN mneisler.cx_revision_ids_by_mtservice mtc\n",
    "ON mwh.revision_id = mtc.target_revision_id\n",
    "WHERE\n",
    "       snapshot = '2022-09'\n",
    "-- only look at new page creations\n",
    "    AND revision_parent_id = 0\n",
    "    AND event_entity = 'revision'\n",
    "-- find revisions moved to the archive table\n",
    "    AND event_type = 'create'\n",
    "    AND event_timestamp >= '2022-02-01'\n",
    "    AND revision_is_deleted_by_page_deletion = TRUE\n",
    "-- identified as Elia\n",
    "    AND mtc.mt_service = 'Elia'\n",
    "    AND ARRAY_CONTAINS(revision_tags, 'contenttranslation')\n",
    "-- remove all bots\n",
    "    AND SIZE(event_user_is_bot_by_historical) = 0  -- not a bot\n",
    "GROUP BY  \n",
    "  wiki_db\n",
    ")\n",
    "\n",
    "-- main query to aggregate and join sources above\n",
    "SELECT\n",
    "    created_articles.wiki,\n",
    "    created_cx_total,\n",
    "    deleted_cx_total\n",
    "FROM created_articles\n",
    "LEFT JOIN deleted_articles ON \n",
    "    created_articles.wiki = deleted_articles.wiki\n",
    "\"\"\""
   ]
  },
  {
   "cell_type": "code",
   "execution_count": 52,
   "id": "0a477877-f481-461a-be5f-bd85c82a9bdc",
   "metadata": {},
   "outputs": [
    {
     "name": "stderr",
     "output_type": "stream",
     "text": [
      "PySpark executors will use /usr/lib/anaconda-wmf/bin/python3.\n",
      "                                                                                \r"
     ]
    }
   ],
   "source": [
    "elia_deletion_data = spark.run(query)"
   ]
  },
  {
   "cell_type": "code",
   "execution_count": 53,
   "id": "33e7dae5-1206-40db-a9cd-a3e5edc1bc4d",
   "metadata": {},
   "outputs": [],
   "source": [
    "#save data to csv\n",
    "elia_deletion_data.to_csv('elia_deletion_data.csv', index = False)"
   ]
  },
  {
   "cell_type": "markdown",
   "id": "600572f4-c961-4a2b-b408-2187b3f5755e",
   "metadata": {},
   "source": [
    "## Yandex"
   ]
  },
  {
   "cell_type": "code",
   "execution_count": 55,
   "id": "01a4e423-8fd8-4c55-9523-ae5aee29ac63",
   "metadata": {},
   "outputs": [],
   "source": [
    "#obtain deletion ratio for all articles on target language wikis since FLores was deployed\n",
    "query = \"\"\"\n",
    "-- find both cx and non-cx created articles \n",
    "WITH created_articles AS (\n",
    "\n",
    "SELECT\n",
    "    wiki_db AS wiki,\n",
    "    COUNT(*) AS created_cx_total\n",
    "FROM wmf.mediawiki_history mwh\n",
    "JOIN mneisler.cx_revision_ids_by_mtservice mtc\n",
    "ON mwh.revision_id = mtc.target_revision_id\n",
    "WHERE\n",
    "    snapshot = '2022-09'\n",
    "-- only look at new page creations\n",
    "    AND revision_parent_id = 0\n",
    "    AND event_entity = 'revision'\n",
    "    AND event_type = 'create' \n",
    "    AND event_timestamp >= '2022-02-01'\n",
    "-- identified as Elia\n",
    "    AND mtc.mt_service = 'Yandex'\n",
    "    AND ARRAY_CONTAINS(revision_tags, 'contenttranslation')\n",
    "GROUP BY  \n",
    "  wiki_db\n",
    "),\n",
    "\n",
    "--find all deleted articles that were created with cx \n",
    "\n",
    "deleted_articles AS (\n",
    "\n",
    "SELECT\n",
    "    wiki_db AS wiki,\n",
    "    COUNT(*) AS deleted_cx_total\n",
    "FROM wmf.mediawiki_history mwh\n",
    "JOIN mneisler.cx_revision_ids_by_mtservice mtc\n",
    "ON mwh.revision_id = mtc.target_revision_id\n",
    "WHERE\n",
    "       snapshot = '2022-09'\n",
    "-- only look at new page creations\n",
    "    AND revision_parent_id = 0\n",
    "    AND event_entity = 'revision'\n",
    "    AND event_timestamp >= '2022-02-01'\n",
    "-- find revisions moved to the archive table\n",
    "    AND event_type = 'create'\n",
    "    AND revision_is_deleted_by_page_deletion = TRUE\n",
    "-- identified as Yandex\n",
    "    AND mtc.mt_service = 'Yandex'\n",
    "    AND ARRAY_CONTAINS(revision_tags, 'contenttranslation')\n",
    "-- remove all bots\n",
    "    AND SIZE(event_user_is_bot_by_historical) = 0  -- not a bot\n",
    "GROUP BY  \n",
    "  wiki_db\n",
    ")\n",
    "\n",
    "-- main query to aggregate and join sources above\n",
    "SELECT\n",
    "    created_articles.wiki,\n",
    "    created_cx_total,\n",
    "    deleted_cx_total\n",
    "FROM created_articles\n",
    "LEFT JOIN deleted_articles ON \n",
    "    created_articles.wiki = deleted_articles.wiki\n",
    "\"\"\""
   ]
  },
  {
   "cell_type": "code",
   "execution_count": 56,
   "id": "500f65fc-7921-41ed-9ae3-391d165071dc",
   "metadata": {},
   "outputs": [
    {
     "name": "stderr",
     "output_type": "stream",
     "text": [
      "PySpark executors will use /usr/lib/anaconda-wmf/bin/python3.\n",
      "                                                                                \r"
     ]
    }
   ],
   "source": [
    "yandex_deletion_data = spark.run(query)"
   ]
  },
  {
   "cell_type": "code",
   "execution_count": 57,
   "id": "4f1fa7d6-2b73-4744-9c6b-e35df5b4ff78",
   "metadata": {},
   "outputs": [],
   "source": [
    "#save data to csv\n",
    "yandex_deletion_data.to_csv('yandex_deletion_data.csv', index = False)"
   ]
  },
  {
   "cell_type": "markdown",
   "id": "04c14a36-a066-4903-b3de-e636f5a983ac",
   "metadata": {},
   "source": [
    "## OpusMT"
   ]
  },
  {
   "cell_type": "code",
   "execution_count": 58,
   "id": "231c1161-5287-460e-a760-6855400d552b",
   "metadata": {},
   "outputs": [],
   "source": [
    "#obtain deletion ratio for all articles on target language wikis since FLores was deployed\n",
    "query = \"\"\"\n",
    "-- find both cx and non-cx created articles \n",
    "WITH created_articles AS (\n",
    "\n",
    "SELECT\n",
    "    wiki_db AS wiki,\n",
    "    COUNT(*) AS created_cx_total\n",
    "FROM wmf.mediawiki_history mwh\n",
    "JOIN mneisler.cx_revision_ids_by_mtservice mtc\n",
    "ON mwh.revision_id = mtc.target_revision_id\n",
    "WHERE\n",
    "    snapshot = '2022-09'\n",
    "-- only look at new page creations\n",
    "    AND revision_parent_id = 0\n",
    "    AND event_entity = 'revision'\n",
    "    AND event_type = 'create' \n",
    "    AND event_timestamp >= '2022-02-01'\n",
    "-- identified as OpusMT\n",
    "    AND mtc.mt_service = 'OpusMT'\n",
    "    AND ARRAY_CONTAINS(revision_tags, 'contenttranslation')\n",
    "GROUP BY  \n",
    "  wiki_db\n",
    "),\n",
    "\n",
    "--find all deleted articles that were created with cx \n",
    "\n",
    "deleted_articles AS (\n",
    "\n",
    "SELECT\n",
    "    wiki_db AS wiki,\n",
    "    COUNT(*) AS deleted_cx_total\n",
    "FROM wmf.mediawiki_history mwh\n",
    "JOIN mneisler.cx_revision_ids_by_mtservice mtc\n",
    "ON mwh.revision_id = mtc.target_revision_id\n",
    "WHERE\n",
    "       snapshot = '2022-09'\n",
    "-- only look at new page creations\n",
    "    AND revision_parent_id = 0\n",
    "    AND event_entity = 'revision'\n",
    "-- find revisions moved to the archive table\n",
    "    AND event_type = 'create'\n",
    "    AND event_timestamp >= '2022-02-01'\n",
    "    AND revision_is_deleted_by_page_deletion = TRUE\n",
    "-- identified as OpusmT\n",
    "    AND mtc.mt_service = 'OpusMT'\n",
    "    AND ARRAY_CONTAINS(revision_tags, 'contenttranslation')\n",
    "-- remove all bots\n",
    "    AND SIZE(event_user_is_bot_by_historical) = 0  -- not a bot\n",
    "GROUP BY  \n",
    "  wiki_db\n",
    ")\n",
    "\n",
    "-- main query to aggregate and join sources above\n",
    "SELECT\n",
    "    created_articles.wiki,\n",
    "    created_cx_total,\n",
    "    deleted_cx_total\n",
    "FROM created_articles\n",
    "LEFT JOIN deleted_articles ON \n",
    "    created_articles.wiki = deleted_articles.wiki\n",
    "\"\"\""
   ]
  },
  {
   "cell_type": "code",
   "execution_count": 60,
   "id": "385b3824-f9f2-4a8e-a8c9-9de1707fe709",
   "metadata": {},
   "outputs": [
    {
     "name": "stderr",
     "output_type": "stream",
     "text": [
      "PySpark executors will use /usr/lib/anaconda-wmf/bin/python3.\n",
      "                                                                                ]\r"
     ]
    }
   ],
   "source": [
    "opus_deletion_data = spark.run(query)"
   ]
  },
  {
   "cell_type": "code",
   "execution_count": 61,
   "id": "cba42fa7-e01d-45cd-9b92-304f583ed6ab",
   "metadata": {},
   "outputs": [],
   "source": [
    "#save data to csv\n",
    "opus_deletion_data.to_csv('opus_deletion_data.csv', index = False)"
   ]
  },
  {
   "cell_type": "markdown",
   "id": "b5195580-b12d-4b14-8bc5-2aeb44512b7a",
   "metadata": {},
   "source": [
    "## LingoCloud"
   ]
  },
  {
   "cell_type": "code",
   "execution_count": 62,
   "id": "e5195659-14f6-4c30-b2b4-80ca3bc53d75",
   "metadata": {},
   "outputs": [],
   "source": [
    "#obtain deletion ratio for all articles on target language wikis since FLores was deployed\n",
    "query = \"\"\"\n",
    "-- find both cx and non-cx created articles \n",
    "WITH created_articles AS (\n",
    "\n",
    "SELECT\n",
    "    wiki_db AS wiki,\n",
    "    COUNT(*) AS created_cx_total\n",
    "FROM wmf.mediawiki_history mwh\n",
    "JOIN mneisler.cx_revision_ids_by_mtservice mtc\n",
    "ON mwh.revision_id = mtc.target_revision_id\n",
    "WHERE\n",
    "    snapshot = '2022-09'\n",
    "-- only look at new page creations\n",
    "    AND revision_parent_id = 0\n",
    "    AND event_entity = 'revision'\n",
    "    AND event_type = 'create' \n",
    "     AND event_timestamp >= '2022-02-01'\n",
    "-- identified as OpusmT\n",
    "    AND mtc.mt_service = 'LingoCloud'\n",
    "    AND ARRAY_CONTAINS(revision_tags, 'contenttranslation')\n",
    "GROUP BY  \n",
    "  wiki_db\n",
    "),\n",
    "\n",
    "--find all deleted articles that were created with cx \n",
    "\n",
    "deleted_articles AS (\n",
    "\n",
    "SELECT\n",
    "    wiki_db AS wiki,\n",
    "    COUNT(*) AS deleted_cx_total\n",
    "FROM wmf.mediawiki_history mwh\n",
    "JOIN mneisler.cx_revision_ids_by_mtservice mtc\n",
    "ON mwh.revision_id = mtc.target_revision_id\n",
    "WHERE\n",
    "       snapshot = '2022-09'\n",
    "-- only look at new page creations\n",
    "    AND revision_parent_id = 0\n",
    "    AND event_entity = 'revision'\n",
    "-- find revisions moved to the archive table\n",
    "    AND event_type = 'create'\n",
    "     AND event_timestamp >= '2022-02-01'\n",
    "    AND revision_is_deleted_by_page_deletion = TRUE\n",
    "-- identified as LingoCloud\n",
    "    AND mtc.mt_service = 'LingoCloud'\n",
    "    AND ARRAY_CONTAINS(revision_tags, 'contenttranslation')\n",
    "-- remove all bots\n",
    "    AND SIZE(event_user_is_bot_by_historical) = 0  -- not a bot\n",
    "GROUP BY  \n",
    "  wiki_db\n",
    ")\n",
    "\n",
    "-- main query to aggregate and join sources above\n",
    "SELECT\n",
    "    created_articles.wiki,\n",
    "    created_cx_total,\n",
    "    deleted_cx_total\n",
    "FROM created_articles\n",
    "LEFT JOIN deleted_articles ON \n",
    "    created_articles.wiki = deleted_articles.wiki\n",
    "\"\"\""
   ]
  },
  {
   "cell_type": "code",
   "execution_count": 63,
   "id": "2a796507-2d51-4fc6-897b-017558920438",
   "metadata": {},
   "outputs": [
    {
     "name": "stderr",
     "output_type": "stream",
     "text": [
      "PySpark executors will use /usr/lib/anaconda-wmf/bin/python3.\n",
      "                                                                                \r"
     ]
    }
   ],
   "source": [
    "lingocloud_deletion_data = spark.run(query)"
   ]
  },
  {
   "cell_type": "code",
   "execution_count": 64,
   "id": "bf8701df-2d4a-4a34-8246-821d7dcab17c",
   "metadata": {},
   "outputs": [],
   "source": [
    "#save data to csv\n",
    "lingocloud_deletion_data.to_csv('lingocloud_deletion_data.csv', index = False)"
   ]
  },
  {
   "cell_type": "markdown",
   "id": "5beca3c8-9282-478c-a371-610683a05ee1",
   "metadata": {},
   "source": [
    "## Apertium"
   ]
  },
  {
   "cell_type": "code",
   "execution_count": 65,
   "id": "91f1ab64-3eff-4488-b7a8-53c189d60bf5",
   "metadata": {},
   "outputs": [],
   "source": [
    "#obtain deletion ratio for all articles on target language wikis since FLores was deployed\n",
    "query = \"\"\"\n",
    "-- find both cx and non-cx created articles \n",
    "WITH created_articles AS (\n",
    "\n",
    "SELECT\n",
    "    wiki_db AS wiki,\n",
    "    COUNT(*) AS created_cx_total\n",
    "FROM wmf.mediawiki_history mwh\n",
    "JOIN mneisler.cx_revision_ids_by_mtservice mtc\n",
    "ON mwh.revision_id = mtc.target_revision_id\n",
    "WHERE\n",
    "    snapshot = '2022-09'\n",
    "-- only look at new page creations\n",
    "    AND revision_parent_id = 0\n",
    "    AND event_entity = 'revision'\n",
    "    AND event_type = 'create' \n",
    "      AND event_timestamp >= '2022-02-01'\n",
    "-- identified as Apertium\n",
    "    AND mtc.mt_service = 'Apertium'\n",
    "    AND ARRAY_CONTAINS(revision_tags, 'contenttranslation')\n",
    "GROUP BY  \n",
    "  wiki_db\n",
    "),\n",
    "\n",
    "--find all deleted articles that were created with cx \n",
    "\n",
    "deleted_articles AS (\n",
    "\n",
    "SELECT\n",
    "    wiki_db AS wiki,\n",
    "    COUNT(*) AS deleted_cx_total\n",
    "FROM wmf.mediawiki_history mwh\n",
    "JOIN mneisler.cx_revision_ids_by_mtservice mtc\n",
    "ON mwh.revision_id = mtc.target_revision_id\n",
    "WHERE\n",
    "       snapshot = '2022-09'\n",
    "-- only look at new page creations\n",
    "    AND revision_parent_id = 0\n",
    "    AND event_entity = 'revision'\n",
    "-- find revisions moved to the archive table\n",
    "    AND event_type = 'create'\n",
    "      AND event_timestamp >= '2022-02-01'\n",
    "    AND revision_is_deleted_by_page_deletion = TRUE\n",
    "-- identified as Apertium\n",
    "    AND mtc.mt_service = 'Apertium'\n",
    "    AND ARRAY_CONTAINS(revision_tags, 'contenttranslation')\n",
    "-- remove all bots\n",
    "    AND SIZE(event_user_is_bot_by_historical) = 0  -- not a bot\n",
    "GROUP BY  \n",
    "  wiki_db\n",
    ")\n",
    "\n",
    "-- main query to aggregate and join sources above\n",
    "SELECT\n",
    "    created_articles.wiki,\n",
    "    created_cx_total,\n",
    "    deleted_cx_total\n",
    "FROM created_articles\n",
    "LEFT JOIN deleted_articles ON \n",
    "    created_articles.wiki = deleted_articles.wiki\n",
    "\"\"\""
   ]
  },
  {
   "cell_type": "code",
   "execution_count": 66,
   "id": "7141b63f-e979-402d-898d-71d631abbcd4",
   "metadata": {},
   "outputs": [
    {
     "name": "stderr",
     "output_type": "stream",
     "text": [
      "PySpark executors will use /usr/lib/anaconda-wmf/bin/python3.\n",
      "                                                                                \r"
     ]
    }
   ],
   "source": [
    "apertium_deletion_data = spark.run(query)"
   ]
  },
  {
   "cell_type": "code",
   "execution_count": 67,
   "id": "fe8101f1-a226-4494-9ffd-09cc824646e0",
   "metadata": {},
   "outputs": [],
   "source": [
    "#save data to csv\n",
    "apertium_deletion_data.to_csv('apertium_deletion_data.csv', index = False)"
   ]
  },
  {
   "cell_type": "markdown",
   "id": "f24f8f85-0377-4eec-a380-6226e4eea35a",
   "metadata": {},
   "source": [
    "## Google"
   ]
  },
  {
   "cell_type": "code",
   "execution_count": 71,
   "id": "0d2b4baf-1fd6-4818-abb9-6afd37f2783a",
   "metadata": {},
   "outputs": [],
   "source": [
    "#obtain deletion ratio for all articles on target language wikis since FLores was deployed\n",
    "query = \"\"\"\n",
    "-- find both cx and non-cx created articles \n",
    "WITH created_articles AS (\n",
    "\n",
    "SELECT\n",
    "    wiki_db AS wiki,\n",
    "    COUNT(*) AS created_cx_total\n",
    "FROM wmf.mediawiki_history mwh\n",
    "JOIN mneisler.cx_revision_ids_by_mtservice mtc\n",
    "ON mwh.revision_id = mtc.target_revision_id\n",
    "WHERE\n",
    "    snapshot = '2022-09'\n",
    "-- only look at new page creations\n",
    "    AND revision_parent_id = 0\n",
    "    AND event_entity = 'revision'\n",
    "    AND event_type = 'create' \n",
    "-- identified as Google\n",
    "    AND mtc.mt_service = 'Google'\n",
    "    AND ARRAY_CONTAINS(revision_tags, 'contenttranslation')\n",
    "GROUP BY  \n",
    "  wiki_db\n",
    "),\n",
    "\n",
    "--find all deleted articles that were created with cx \n",
    "\n",
    "deleted_articles AS (\n",
    "\n",
    "SELECT\n",
    "    wiki_db AS wiki,\n",
    "    COUNT(*) AS deleted_cx_total\n",
    "FROM wmf.mediawiki_history mwh\n",
    "JOIN mneisler.cx_revision_ids_by_mtservice mtc\n",
    "ON mwh.revision_id = mtc.target_revision_id\n",
    "WHERE\n",
    "       snapshot = '2022-09'\n",
    "-- only look at new page creations\n",
    "    AND revision_parent_id = 0\n",
    "    AND event_entity = 'revision'\n",
    "-- find revisions moved to the archive table\n",
    "    AND event_type = 'create'\n",
    "    AND revision_is_deleted_by_page_deletion = TRUE\n",
    "-- identified as Google\n",
    "    AND mtc.mt_service = 'Google'\n",
    "    AND ARRAY_CONTAINS(revision_tags, 'contenttranslation')\n",
    "-- remove all bots\n",
    "    AND SIZE(event_user_is_bot_by_historical) = 0  -- not a bot\n",
    "GROUP BY  \n",
    "  wiki_db\n",
    ")\n",
    "\n",
    "-- main query to aggregate and join sources above\n",
    "SELECT\n",
    "    created_articles.wiki,\n",
    "    created_cx_total,\n",
    "    deleted_cx_total\n",
    "FROM created_articles\n",
    "LEFT JOIN deleted_articles ON \n",
    "    created_articles.wiki = deleted_articles.wiki\n",
    "\"\"\""
   ]
  },
  {
   "cell_type": "code",
   "execution_count": 72,
   "id": "c8380479-e684-4b88-9c85-a28ff89da532",
   "metadata": {},
   "outputs": [
    {
     "name": "stderr",
     "output_type": "stream",
     "text": [
      "PySpark executors will use /usr/lib/anaconda-wmf/bin/python3.\n",
      "                                                                                ]\r"
     ]
    }
   ],
   "source": [
    "google_deletion_data = spark.run(query)"
   ]
  },
  {
   "cell_type": "code",
   "execution_count": 74,
   "id": "a3313475-be87-43ca-a417-5236c50357c3",
   "metadata": {},
   "outputs": [],
   "source": [
    "#save data to csv\n",
    "google_deletion_data.to_csv('google_deletion_data.csv', index = False)"
   ]
  },
  {
   "cell_type": "markdown",
   "id": "a6925131-b64b-47d4-a981-18adde59eafa",
   "metadata": {},
   "source": [
    "## NLLB-200"
   ]
  },
  {
   "cell_type": "code",
   "execution_count": 68,
   "id": "1ae6d8aa-703b-43ca-8b48-c53d01061028",
   "metadata": {},
   "outputs": [],
   "source": [
    "#obtain deletion ratio for all articles on target language wikis since FLores was deployed\n",
    "query = \"\"\"\n",
    "-- find both cx and non-cx created articles \n",
    "WITH created_articles AS (\n",
    "\n",
    "SELECT\n",
    "    wiki_db AS wiki,\n",
    "    COUNT(*) AS created_cx_total\n",
    "FROM wmf.mediawiki_history mwh\n",
    "JOIN mneisler.cx_revision_ids_by_mtservice mtc\n",
    "ON mwh.revision_id = mtc.target_revision_id\n",
    "WHERE\n",
    "    snapshot = '2022-09'\n",
    "-- only look at new page creations\n",
    "    AND revision_parent_id = 0\n",
    "    AND event_entity = 'revision'\n",
    "    AND event_type = 'create' \n",
    "      AND event_timestamp >= '2022-02-01'\n",
    "-- identified as NLLB-200\n",
    "    AND mtc.mt_service = 'NLLB-200'\n",
    "    AND ARRAY_CONTAINS(revision_tags, 'contenttranslation')\n",
    "GROUP BY  \n",
    "  wiki_db\n",
    "),\n",
    "\n",
    "--find all deleted articles that were created with cx \n",
    "\n",
    "deleted_articles AS (\n",
    "\n",
    "SELECT\n",
    "    wiki_db AS wiki,\n",
    "    COUNT(*) AS deleted_cx_total\n",
    "FROM wmf.mediawiki_history mwh\n",
    "JOIN mneisler.cx_revision_ids_by_mtservice mtc\n",
    "ON mwh.revision_id = mtc.target_revision_id\n",
    "WHERE\n",
    "       snapshot = '2022-09'\n",
    "-- only look at new page creations\n",
    "    AND revision_parent_id = 0\n",
    "    AND event_entity = 'revision'\n",
    "-- find revisions moved to the archive table\n",
    "    AND event_type = 'create'\n",
    "    AND revision_is_deleted_by_page_deletion = TRUE\n",
    "-- identified as NLLB-200\n",
    "    AND mtc.mt_service = 'NLLB-200'\n",
    "      AND event_timestamp >= '2022-02-01'\n",
    "    AND ARRAY_CONTAINS(revision_tags, 'contenttranslation')\n",
    "-- remove all bots\n",
    "    AND SIZE(event_user_is_bot_by_historical) = 0  -- not a bot\n",
    "GROUP BY  \n",
    "  wiki_db\n",
    ")\n",
    "\n",
    "-- main query to aggregate and join sources above\n",
    "SELECT\n",
    "    created_articles.wiki,\n",
    "    created_cx_total,\n",
    "    deleted_cx_total\n",
    "FROM created_articles\n",
    "LEFT JOIN deleted_articles ON \n",
    "    created_articles.wiki = deleted_articles.wiki\n",
    "\"\"\""
   ]
  },
  {
   "cell_type": "code",
   "execution_count": 69,
   "id": "b3dbcfa9-3159-46cc-a5df-e623a535e1da",
   "metadata": {},
   "outputs": [
    {
     "name": "stderr",
     "output_type": "stream",
     "text": [
      "PySpark executors will use /usr/lib/anaconda-wmf/bin/python3.\n",
      "                                                                                4]\r"
     ]
    }
   ],
   "source": [
    "flores_deletion_data = spark.run(query)"
   ]
  },
  {
   "cell_type": "code",
   "execution_count": 70,
   "id": "e7f4eb6c-c607-4750-91dc-5eaa730e8d94",
   "metadata": {},
   "outputs": [],
   "source": [
    "#save data to csv\n",
    "flores_deletion_data.to_csv('flores_deletion_data.csv', index = False)"
   ]
  },
  {
   "cell_type": "code",
   "execution_count": null,
   "id": "cf96b26f-1d58-46a4-9ba4-4077ec504790",
   "metadata": {},
   "outputs": [],
   "source": []
  }
 ],
 "metadata": {
  "kernelspec": {
   "display_name": "Python 3 (ipykernel)",
   "language": "python",
   "name": "python3"
  },
  "language_info": {
   "codemirror_mode": {
    "name": "ipython",
    "version": 3
   },
   "file_extension": ".py",
   "mimetype": "text/x-python",
   "name": "python",
   "nbconvert_exporter": "python",
   "pygments_lexer": "ipython3",
   "version": "3.7.11"
  },
  "toc-autonumbering": true,
  "toc-showmarkdowntxt": false
 },
 "nbformat": 4,
 "nbformat_minor": 5
}
