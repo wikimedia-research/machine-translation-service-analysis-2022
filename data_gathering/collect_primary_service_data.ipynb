{
 "cells": [
  {
   "cell_type": "markdown",
   "id": "0d7e3a88-81e9-4b9e-b9ea-a12b92176c80",
   "metadata": {},
   "source": [
    "# Collect primary service information for language paris"
   ]
  },
  {
   "cell_type": "code",
   "execution_count": 4,
   "id": "a2e71636-ee76-4838-b0d8-7f3697c9468c",
   "metadata": {},
   "outputs": [],
   "source": [
    "import duckdb\n",
    "import pandas as pd\n",
    "import json\n",
    "import requests"
   ]
  },
  {
   "cell_type": "code",
   "execution_count": 14,
   "id": "3144c7e0-9880-45f6-a79d-cea04b7401c0",
   "metadata": {},
   "outputs": [],
   "source": [
    "conn = duckdb.connect('secrets/mt_data.db')"
   ]
  },
  {
   "cell_type": "code",
   "execution_count": 6,
   "id": "dfed3509-c553-4a98-821e-8f4ec99f5f66",
   "metadata": {},
   "outputs": [
    {
     "data": {
      "text/plain": [
       "(2837, 2)"
      ]
     },
     "execution_count": 6,
     "metadata": {},
     "output_type": "execute_result"
    }
   ],
   "source": [
    "# get unique pairs\n",
    "unique_pairs = conn.sql(\"\"\"SELECT DISTINCT source_language, target_language FROM mt_logs\"\"\").df()\n",
    "unique_pairs.shape"
   ]
  },
  {
   "cell_type": "markdown",
   "id": "2668fd66-61f3-4c26-a6aa-7e6472fcbb94",
   "metadata": {},
   "source": [
    "## Get default service data\n",
    "The data is https://cxserver.wikimedia.org, where the first item of the output array for machine translation engines for a language pair is the default. For example, for [en-hi](https://cxserver.wikimedia.org/v1/list/mt/en/hi), it is Google."
   ]
  },
  {
   "cell_type": "code",
   "execution_count": 7,
   "id": "b3374ac0-e762-4089-845d-a9be9322d74d",
   "metadata": {},
   "outputs": [],
   "source": [
    "def get_default_service(lang1, lang2):\n",
    "    response = requests.get(f'https://cxserver.wikimedia.org/v1/list/mt/{lang1}/{lang2}')\n",
    "    output = json.loads(response.text)\n",
    "    if len(output) == 0:\n",
    "        return [None, 'no_mt']\n",
    "    else:\n",
    "        services = output['mt']\n",
    "        if len(services) == 1:\n",
    "            return [services[0], 'only_mt']\n",
    "        else:\n",
    "            return [services[0], 'default_mt']"
   ]
  },
  {
   "cell_type": "code",
   "execution_count": 9,
   "id": "0d436a9e-8ce4-4b88-9cf5-5c6ab5f61930",
   "metadata": {},
   "outputs": [
    {
     "name": "stdout",
     "output_type": "stream",
     "text": [
      "CPU times: user 37.3 s, sys: 1.44 s, total: 38.8 s\n",
      "Wall time: 1min\n"
     ]
    }
   ],
   "source": [
    "%%time\n",
    "\n",
    "unique_pairs[['service', 'service_type']] = (\n",
    "    unique_pairs\n",
    "    .apply(\n",
    "        lambda row: pd.Series(get_default_service(row['source_language'], row['target_language'])),\n",
    "        axis=1\n",
    "    )\n",
    ")"
   ]
  },
  {
   "cell_type": "code",
   "execution_count": 77,
   "id": "1687c11f-96a8-4c55-8c71-1641c6e07170",
   "metadata": {},
   "outputs": [
    {
     "name": "stdout",
     "output_type": "stream",
     "text": [
      "(2790, 5)\n"
     ]
    },
    {
     "data": {
      "text/html": [
       "<div>\n",
       "<style scoped>\n",
       "    .dataframe tbody tr th:only-of-type {\n",
       "        vertical-align: middle;\n",
       "    }\n",
       "\n",
       "    .dataframe tbody tr th {\n",
       "        vertical-align: top;\n",
       "    }\n",
       "\n",
       "    .dataframe thead th {\n",
       "        text-align: right;\n",
       "    }\n",
       "</style>\n",
       "<table border=\"1\" class=\"dataframe\">\n",
       "  <thead>\n",
       "    <tr style=\"text-align: right;\">\n",
       "      <th></th>\n",
       "      <th>source_language</th>\n",
       "      <th>target_language</th>\n",
       "      <th>service</th>\n",
       "      <th>service_type</th>\n",
       "      <th>language_pair</th>\n",
       "    </tr>\n",
       "  </thead>\n",
       "  <tbody>\n",
       "    <tr>\n",
       "      <th>0</th>\n",
       "      <td>en</td>\n",
       "      <td>uz</td>\n",
       "      <td>Google</td>\n",
       "      <td>default_mt</td>\n",
       "      <td>en-uz</td>\n",
       "    </tr>\n",
       "    <tr>\n",
       "      <th>1</th>\n",
       "      <td>en</td>\n",
       "      <td>nb</td>\n",
       "      <td>MinT</td>\n",
       "      <td>default_mt</td>\n",
       "      <td>en-nb</td>\n",
       "    </tr>\n",
       "    <tr>\n",
       "      <th>2</th>\n",
       "      <td>en</td>\n",
       "      <td>pa</td>\n",
       "      <td>Google</td>\n",
       "      <td>default_mt</td>\n",
       "      <td>en-pa</td>\n",
       "    </tr>\n",
       "    <tr>\n",
       "      <th>3</th>\n",
       "      <td>en</td>\n",
       "      <td>zh</td>\n",
       "      <td>Google</td>\n",
       "      <td>default_mt</td>\n",
       "      <td>en-zh</td>\n",
       "    </tr>\n",
       "    <tr>\n",
       "      <th>4</th>\n",
       "      <td>en</td>\n",
       "      <td>eo</td>\n",
       "      <td>Apertium</td>\n",
       "      <td>default_mt</td>\n",
       "      <td>en-eo</td>\n",
       "    </tr>\n",
       "  </tbody>\n",
       "</table>\n",
       "</div>"
      ],
      "text/plain": [
       "  source_language target_language   service service_type language_pair\n",
       "0              en              uz    Google   default_mt         en-uz\n",
       "1              en              nb      MinT   default_mt         en-nb\n",
       "2              en              pa    Google   default_mt         en-pa\n",
       "3              en              zh    Google   default_mt         en-zh\n",
       "4              en              eo  Apertium   default_mt         en-eo"
      ]
     },
     "execution_count": 77,
     "metadata": {},
     "output_type": "execute_result"
    }
   ],
   "source": [
    "print(unique_pairs.shape)\n",
    "unique_pairs.head()"
   ]
  },
  {
   "cell_type": "markdown",
   "id": "a6912a41-a92c-472b-bcab-d6055db1b11c",
   "metadata": {},
   "source": [
    "## Export to database"
   ]
  },
  {
   "cell_type": "code",
   "execution_count": 15,
   "id": "d0b3878d-af8e-4ea1-988d-cf4c129bedeb",
   "metadata": {},
   "outputs": [
    {
     "data": {
      "text/plain": [
       "<duckdb.DuckDBPyConnection at 0x7fc8dc2812f0>"
      ]
     },
     "execution_count": 15,
     "metadata": {},
     "output_type": "execute_result"
    }
   ],
   "source": [
    "conn.execute(\"\"\"\n",
    "CREATE OR REPLACE TABLE mt_defaults AS\n",
    "SELECT\n",
    "    *,\n",
    "    source_language||'-'||target_language AS pair\n",
    "FROM\n",
    "    unique_pairs\n",
    "\"\"\")"
   ]
  },
  {
   "cell_type": "code",
   "execution_count": 16,
   "id": "f561293f-7207-40d1-b386-153e18194cd0",
   "metadata": {},
   "outputs": [
    {
     "data": {
      "text/plain": [
       "┌─────────────────┬─────────────┬─────────┬─────────┬─────────┬───────┐\n",
       "│   column_name   │ column_type │  null   │   key   │ default │ extra │\n",
       "│     varchar     │   varchar   │ varchar │ varchar │ varchar │ int32 │\n",
       "├─────────────────┼─────────────┼─────────┼─────────┼─────────┼───────┤\n",
       "│ source_language │ VARCHAR     │ YES     │ NULL    │ NULL    │  NULL │\n",
       "│ target_language │ VARCHAR     │ YES     │ NULL    │ NULL    │  NULL │\n",
       "│ service         │ VARCHAR     │ YES     │ NULL    │ NULL    │  NULL │\n",
       "│ service_type    │ VARCHAR     │ YES     │ NULL    │ NULL    │  NULL │\n",
       "│ pair            │ VARCHAR     │ YES     │ NULL    │ NULL    │  NULL │\n",
       "└─────────────────┴─────────────┴─────────┴─────────┴─────────┴───────┘"
      ]
     },
     "execution_count": 16,
     "metadata": {},
     "output_type": "execute_result"
    }
   ],
   "source": [
    "conn.sql(\"\"\"DESCRIBE mt_defaults\"\"\")"
   ]
  },
  {
   "cell_type": "code",
   "execution_count": 17,
   "id": "778ff859-a743-41da-b72b-f0eb91eaf0a0",
   "metadata": {},
   "outputs": [],
   "source": [
    "conn.close()"
   ]
  }
 ],
 "metadata": {
  "kernelspec": {
   "display_name": "Python 3 (ipykernel)",
   "language": "python",
   "name": "python3"
  },
  "language_info": {
   "codemirror_mode": {
    "name": "ipython",
    "version": 3
   },
   "file_extension": ".py",
   "mimetype": "text/x-python",
   "name": "python",
   "nbconvert_exporter": "python",
   "pygments_lexer": "ipython3",
   "version": "3.10.8"
  }
 },
 "nbformat": 4,
 "nbformat_minor": 5
}
