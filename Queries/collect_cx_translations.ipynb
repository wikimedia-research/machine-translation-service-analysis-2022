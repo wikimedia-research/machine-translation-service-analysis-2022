{
 "cells": [
  {
   "cell_type": "markdown",
   "id": "b6687a92-b08e-4e3c-8e4d-8d818c6b8abc",
   "metadata": {},
   "source": [
    "# Collect all cx translations"
   ]
  },
  {
   "cell_type": "code",
   "execution_count": 60,
   "id": "cfd3ef90-0680-464c-ac6c-bd47325e37ec",
   "metadata": {},
   "outputs": [],
   "source": [
    "from wmfdata import hive, mariadb\n",
    "import pandas as pd"
   ]
  },
  {
   "cell_type": "code",
   "execution_count": 61,
   "id": "e853581a-6d47-46c3-aa36-06029b208e05",
   "metadata": {},
   "outputs": [],
   "source": [
    "#collect content translation and associated MT engine\n",
    "# Need to query cx_corpus table and cross it with cx_translations table and then group and sort\n",
    "\n",
    "query = \"\"\" \n",
    "    SELECT\n",
    "    translation_start_timestamp AS translation_start_time,\n",
    "    translation_id,\n",
    "    translation_target_revision_id  AS target_revision_id,\n",
    "    translation_target_title AS page_title,\n",
    "    json_extract(translation_progress, '$.mt') AS mt_translated_percent, \n",
    "    json_extract(translation_progress, '$.human') AS human_translated_percent, \n",
    "    translation_status AS translation_status,\n",
    "    CASE\n",
    "    WHEN cc.cxc_origin = 'source' THEN 'source'\n",
    "    WHEN cc.cxc_origin = 'user' THEN 'final'\n",
    "    ELSE 'mt_engine'\n",
    "    END AS translation_type,\n",
    "    cc.cxc_origin AS mt_service,\n",
    "    translation_source_language AS source_language,\n",
    "    translation_target_language AS target_language\n",
    "    FROM \n",
    "    cx_translations\n",
    "    JOIN \n",
    "    cx_corpora AS cc\n",
    "    ON translation_id = cc.cxc_translation_id\n",
    "\"\"\"\n"
   ]
  },
  {
   "cell_type": "code",
   "execution_count": null,
   "id": "9dee9edf-12f3-479b-98f2-0251fcd989d3",
   "metadata": {},
   "outputs": [],
   "source": [
    "mt_data = mariadb.run(commands = query, dbs = \"wikishared\", use_x1 = False, format=\"pandas\", date_col=None,\n",
    " index_col=None)"
   ]
  },
  {
   "cell_type": "code",
   "execution_count": 7,
   "id": "fc94df02-9d21-4e0b-a8c4-22dafda063a8",
   "metadata": {},
   "outputs": [],
   "source": [
    "#save data to csv\n",
    "mt_data.to_csv('mt_data.csv', index = False)"
   ]
  },
  {
   "cell_type": "markdown",
   "id": "a6925131-b64b-47d4-a981-18adde59eafa",
   "metadata": {},
   "source": [
    "# Collect Deletion Ratios"
   ]
  },
  {
   "cell_type": "code",
   "execution_count": 74,
   "id": "82ca0eb5-df2f-4ee3-b562-8aa6c07e6a4d",
   "metadata": {},
   "outputs": [],
   "source": [
    "# final all published flores articles\n",
    "flores_data = mt_data[(mt_data[\"mt_service\"]==\"Flores\") & (mt_data[\"translation_status\"]=='published')]\n"
   ]
  },
  {
   "cell_type": "code",
   "execution_count": 68,
   "id": "42c24a6f-4219-423e-9148-4c01987edc18",
   "metadata": {},
   "outputs": [],
   "source": [
    "# identify all revision ids and create lis\n",
    "revision_ids = flores_data[\"target_revision_id\"].round().astype(int)\n",
    "revision_list = ','.join([str(u) for u in revision_ids])"
   ]
  },
  {
   "cell_type": "code",
   "execution_count": 69,
   "id": "1ae6d8aa-703b-43ca-8b48-c53d01061028",
   "metadata": {},
   "outputs": [],
   "source": [
    "#obtain deletion ratio for all articles on target language wikis since FLores was deployed\n",
    "query = \"\"\"\n",
    "-- find both cx and non-cx created articles \n",
    "WITH created_articles AS (\n",
    "\n",
    "SELECT\n",
    "    wiki_db AS wiki,\n",
    "    COUNT(*) AS created_cx_total\n",
    "FROM wmf.mediawiki_history\n",
    "WHERE\n",
    "    snapshot = '2022-03'\n",
    "-- only look at new page creations\n",
    "    AND revision_parent_id = 0\n",
    "    AND event_entity = 'revision'\n",
    "    AND event_type = 'create' \n",
    "-- identified as Flores revision_id\n",
    "    AND revision_id in ({revisions})\n",
    "    AND wiki_db IN ('igwiki','iswiki', 'lgwiki', 'ocwiki', 'zhwiki', 'zuwiki')\n",
    "    AND ARRAY_CONTAINS(revision_tags, 'contenttranslation')\n",
    "GROUP BY  \n",
    "  wiki_db\n",
    "),\n",
    "\n",
    "--find all deleted articles that were created with cx \n",
    "\n",
    "deleted_articles AS (\n",
    "\n",
    "SELECT\n",
    "    wiki_db AS wiki,\n",
    "    COUNT(*) AS deleted_cx_total\n",
    "FROM wmf.mediawiki_history\n",
    "WHERE\n",
    "       snapshot = '2022-03'\n",
    "-- only look at new page creations\n",
    "    AND revision_parent_id = 0\n",
    "    AND event_entity = 'revision'\n",
    "-- find revisions moved to the archive table\n",
    "    AND event_type = 'create'\n",
    "    AND revision_is_deleted_by_page_deletion = TRUE\n",
    "    -- identified as Flores revision_id\n",
    "    AND revision_id in ({revisions})\n",
    "    AND ARRAY_CONTAINS(revision_tags, 'contenttranslation')\n",
    "-- remove all bots\n",
    "    AND SIZE(event_user_is_bot_by_historical) = 0  -- not a bot\n",
    "    AND wiki_db IN ('igwiki','iswiki', 'lgwiki', 'ocwiki', 'zhwiki', 'zuwiki')\n",
    "GROUP BY  \n",
    "  wiki_db\n",
    ")\n",
    "\n",
    "-- main query to aggregate and join sources above\n",
    "SELECT\n",
    "    created_articles.wiki,\n",
    "    created_cx_total,\n",
    "    deleted_cx_total\n",
    "FROM created_articles\n",
    "LEFT JOIN deleted_articles ON \n",
    "    created_articles.wiki = deleted_articles.wiki\n",
    "\"\"\""
   ]
  },
  {
   "cell_type": "code",
   "execution_count": 70,
   "id": "b3dbcfa9-3159-46cc-a5df-e623a535e1da",
   "metadata": {},
   "outputs": [],
   "source": [
    "flores_deletion_data = hive.run(query.format(revisions=revision_list))"
   ]
  },
  {
   "cell_type": "code",
   "execution_count": 71,
   "id": "b066337e-0075-4361-9d76-194e1afd9cd9",
   "metadata": {},
   "outputs": [
    {
     "data": {
      "text/html": [
       "<div>\n",
       "<style scoped>\n",
       "    .dataframe tbody tr th:only-of-type {\n",
       "        vertical-align: middle;\n",
       "    }\n",
       "\n",
       "    .dataframe tbody tr th {\n",
       "        vertical-align: top;\n",
       "    }\n",
       "\n",
       "    .dataframe thead th {\n",
       "        text-align: right;\n",
       "    }\n",
       "</style>\n",
       "<table border=\"1\" class=\"dataframe\">\n",
       "  <thead>\n",
       "    <tr style=\"text-align: right;\">\n",
       "      <th></th>\n",
       "      <th>wiki</th>\n",
       "      <th>created_cx_total</th>\n",
       "      <th>deleted_cx_total</th>\n",
       "    </tr>\n",
       "  </thead>\n",
       "  <tbody>\n",
       "    <tr>\n",
       "      <th>0</th>\n",
       "      <td>zhwiki</td>\n",
       "      <td>12</td>\n",
       "      <td>None</td>\n",
       "    </tr>\n",
       "    <tr>\n",
       "      <th>1</th>\n",
       "      <td>lgwiki</td>\n",
       "      <td>29</td>\n",
       "      <td>None</td>\n",
       "    </tr>\n",
       "    <tr>\n",
       "      <th>2</th>\n",
       "      <td>igwiki</td>\n",
       "      <td>19</td>\n",
       "      <td>None</td>\n",
       "    </tr>\n",
       "    <tr>\n",
       "      <th>3</th>\n",
       "      <td>iswiki</td>\n",
       "      <td>13</td>\n",
       "      <td>None</td>\n",
       "    </tr>\n",
       "  </tbody>\n",
       "</table>\n",
       "</div>"
      ],
      "text/plain": [
       "     wiki  created_cx_total deleted_cx_total\n",
       "0  zhwiki                12             None\n",
       "1  lgwiki                29             None\n",
       "2  igwiki                19             None\n",
       "3  iswiki                13             None"
      ]
     },
     "execution_count": 71,
     "metadata": {},
     "output_type": "execute_result"
    }
   ],
   "source": [
    "flores_deletion_data"
   ]
  },
  {
   "cell_type": "code",
   "execution_count": 75,
   "id": "e7f4eb6c-c607-4750-91dc-5eaa730e8d94",
   "metadata": {},
   "outputs": [],
   "source": [
    "#save data to csv\n",
    "flores_deletion_data.to_csv('flores_deletion_data.csv', index = False)"
   ]
  },
  {
   "cell_type": "code",
   "execution_count": null,
   "id": "8706f810-23f2-4f41-abd4-7519cdc491ad",
   "metadata": {},
   "outputs": [],
   "source": []
  }
 ],
 "metadata": {
  "kernelspec": {
   "display_name": "Python 3 (ipykernel)",
   "language": "python",
   "name": "python3"
  },
  "language_info": {
   "codemirror_mode": {
    "name": "ipython",
    "version": 3
   },
   "file_extension": ".py",
   "mimetype": "text/x-python",
   "name": "python",
   "nbconvert_exporter": "python",
   "pygments_lexer": "ipython3",
   "version": "3.7.11"
  }
 },
 "nbformat": 4,
 "nbformat_minor": 5
}
